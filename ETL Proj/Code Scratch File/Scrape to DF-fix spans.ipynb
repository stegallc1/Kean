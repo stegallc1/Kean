{
 "cells": [
  {
   "cell_type": "code",
   "execution_count": 7,
   "metadata": {},
   "outputs": [],
   "source": [
    "import pandas as pd\n",
    "from bs4 import BeautifulSoup\n",
    "import requests\n",
    "import certifi\n",
    "import pprint \n",
    "import urllib3\n",
    "import html5lib\n",
    "import math\n",
    "urllib3.disable_warnings(urllib3.exceptions.InsecureRequestWarning)\n",
    "from IPython.display import HTML\n",
    "import matplotlib.pyplot as plt\n",
    "import numpy as np\n",
    "from itertools import product"
   ]
  },
  {
   "cell_type": "code",
   "execution_count": 8,
   "metadata": {},
   "outputs": [],
   "source": [
    "URL = \"https://www.ttilgb.com/uiAgs03Action/openScreen.do\"\n",
    "res = requests.get(URL, 'lxml', verify=False)\n",
    "soup = BeautifulSoup(res.content, 'lxml')"
   ]
  },
  {
   "cell_type": "code",
   "execution_count": 9,
   "metadata": {},
   "outputs": [],
   "source": [
    "def table_to_2d(table_tag):\n",
    "    rowspans = []  # track pending rowspans\n",
    "    rows = table_tag.find_all('tr')\n",
    "\n",
    "    # first scan, see how many columns we need\n",
    "    colcount = 0\n",
    "    for r, row in enumerate(rows):\n",
    "        cells = row.find_all(['td', 'th'], recursive=False)\n",
    "        # count columns (including spanned).\n",
    "        # add active rowspans from preceding rows\n",
    "        # we *ignore* the colspan value on the last cell, to prevent\n",
    "        # creating 'phantom' columns with no actual cells, only extended\n",
    "        # colspans. This is achieved by hardcoding the last cell width as 1. \n",
    "        # a colspan of 0 means “fill until the end” but can really only apply\n",
    "        # to the last cell; ignore it elsewhere. \n",
    "        colcount = max(\n",
    "            colcount,\n",
    "            sum(int(c.get('colspan', 1)) or 1 for c in cells[:-1]) + len(cells[-1:]) + len(rowspans))\n",
    "        # update rowspan bookkeeping; 0 is a span to the bottom. \n",
    "        rowspans += [int(c.get('rowspan', 1)) or len(rows) - r for c in cells]\n",
    "        rowspans = [s - 1 for s in rowspans if s > 1]\n",
    "\n",
    "    # it doesn't matter if there are still rowspan numbers 'active'; no extra\n",
    "    # rows to show in the table means the larger than 1 rowspan numbers in the\n",
    "    # last table row are ignored.\n",
    "\n",
    "    # build an empty matrix for all possible cells\n",
    "    table = [[None] * colcount for row in rows]\n",
    "\n",
    "    # fill matrix from row data\n",
    "    rowspans = {}  # track pending rowspans, column number mapping to count\n",
    "    for row, row_elem in enumerate(rows):\n",
    "        span_offset = 0  # how many columns are skipped due to row and colspans \n",
    "        for col, cell in enumerate(row_elem.find_all(['td', 'th'], recursive=False)):\n",
    "            # adjust for preceding row and colspans\n",
    "            col += span_offset\n",
    "            while rowspans.get(col, 0):\n",
    "                span_offset += 1\n",
    "                col += 1\n",
    "\n",
    "            # fill table data\n",
    "            rowspan = rowspans[col] = int(cell.get('rowspan', 1)) or len(rows) - row\n",
    "            colspan = int(cell.get('colspan', 1)) or colcount - col\n",
    "            # next column is offset by the colspan\n",
    "            span_offset += colspan - 1\n",
    "            value = cell.get_text()\n",
    "            for drow, dcol in product(range(rowspan), range(colspan)):\n",
    "                try:\n",
    "                    table[row + drow][col + dcol] = value\n",
    "                    rowspans[col + dcol] = rowspan\n",
    "                except IndexError:\n",
    "                    # rowspan or colspan outside the confines of the table\n",
    "                    pass\n",
    "\n",
    "        # update rowspan bookkeeping\n",
    "        rowspans = {c: s - 1 for c, s in rowspans.items() if s > 1}\n",
    "\n",
    "    return table"
   ]
  },
  {
   "cell_type": "code",
   "execution_count": 12,
   "metadata": {},
   "outputs": [],
   "source": [
    "table1 = soup.find(\"td\", { \"class\" : \"h23\" })"
   ]
  },
  {
   "cell_type": "code",
   "execution_count": 13,
   "metadata": {},
   "outputs": [
    {
     "ename": "TypeError",
     "evalue": "'module' object is not callable",
     "output_type": "error",
     "traceback": [
      "\u001b[1;31m---------------------------------------------------------------------------\u001b[0m",
      "\u001b[1;31mTypeError\u001b[0m                                 Traceback (most recent call last)",
      "\u001b[1;32m<ipython-input-13-fbfc6fde10f7>\u001b[0m in \u001b[0;36m<module>\u001b[1;34m\u001b[0m\n\u001b[1;32m----> 1\u001b[1;33m \u001b[0mpprint\u001b[0m\u001b[1;33m(\u001b[0m\u001b[0mtable_to_2d\u001b[0m\u001b[1;33m(\u001b[0m\u001b[0mtable1\u001b[0m\u001b[1;33m.\u001b[0m\u001b[0mtable\u001b[0m\u001b[1;33m)\u001b[0m\u001b[1;33m,\u001b[0m \u001b[0mwidth\u001b[0m\u001b[1;33m=\u001b[0m\u001b[1;36m30\u001b[0m\u001b[1;33m)\u001b[0m\u001b[1;33m\u001b[0m\u001b[1;33m\u001b[0m\u001b[0m\n\u001b[0m",
      "\u001b[1;31mTypeError\u001b[0m: 'module' object is not callable"
     ]
    }
   ],
   "source": [
    " pprint(table_to_2d(table1.table), width=30)"
   ]
  },
  {
   "cell_type": "code",
   "execution_count": null,
   "metadata": {},
   "outputs": [],
   "source": [
    "df = pd.DataFrame(data=res)"
   ]
  },
  {
   "cell_type": "code",
   "execution_count": null,
   "metadata": {},
   "outputs": [],
   "source": [
    "#Or children = table.findChildren()\n",
    "#for child in children:\n",
    "    #print (child)"
   ]
  },
  {
   "cell_type": "code",
   "execution_count": null,
   "metadata": {},
   "outputs": [],
   "source": [
    "#table1 = soup.find_all('tr')[0] "
   ]
  },
  {
   "cell_type": "code",
   "execution_count": null,
   "metadata": {},
   "outputs": [],
   "source": [
    "#df1 = pd.read_html(str(table1))\n",
    "#print (df1)"
   ]
  },
  {
   "cell_type": "code",
   "execution_count": null,
   "metadata": {},
   "outputs": [],
   "source": [
    "#table2 = soup.find_all(\"td\", { \"class\" : \"h23\" })"
   ]
  },
  {
   "cell_type": "code",
   "execution_count": null,
   "metadata": {},
   "outputs": [],
   "source": [
    "#df2 = pd.read_html(str(table2))"
   ]
  },
  {
   "cell_type": "code",
   "execution_count": null,
   "metadata": {},
   "outputs": [],
   "source": [
    "#df2"
   ]
  },
  {
   "cell_type": "code",
   "execution_count": null,
   "metadata": {},
   "outputs": [],
   "source": [
    "#soupparser = BeautifulSoup(res.content, 'html.parser')\n",
    "#print(soupparser.prettify()) "
   ]
  },
  {
   "cell_type": "code",
   "execution_count": null,
   "metadata": {},
   "outputs": [],
   "source": [
    "table = soup.find('tbody')"
   ]
  },
  {
   "cell_type": "code",
   "execution_count": null,
   "metadata": {},
   "outputs": [],
   "source": [
    "res = []\n",
    "row = []\n",
    "\n",
    "for tr in table.find_all('tr'):\n",
    "     for td in tr.find_all('td'):\n",
    "         row.append(td.text.strip())\n",
    "     res.append(row)\n",
    "     row = []"
   ]
  },
  {
   "cell_type": "code",
   "execution_count": null,
   "metadata": {},
   "outputs": [],
   "source": [
    "df = pd.DataFrame(data=res)"
   ]
  },
  {
   "cell_type": "code",
   "execution_count": null,
   "metadata": {},
   "outputs": [],
   "source": [
    "#df"
   ]
  },
  {
   "cell_type": "code",
   "execution_count": null,
   "metadata": {},
   "outputs": [],
   "source": [
    "#df.to_excel(r\"C:\\Users\\CodyS\\Desktop\\ETL-Project\\data.xlsx\", index = False)"
   ]
  },
  {
   "cell_type": "code",
   "execution_count": null,
   "metadata": {},
   "outputs": [],
   "source": [
    "soupparser = BeautifulSoup(table.content, 'html.parser')\n",
    "print(soupparser.prettify()) "
   ]
  },
  {
   "cell_type": "code",
   "execution_count": null,
   "metadata": {},
   "outputs": [],
   "source": []
  }
 ],
 "metadata": {
  "kernelspec": {
   "display_name": "Python 3",
   "language": "python",
   "name": "python3"
  },
  "language_info": {
   "codemirror_mode": {
    "name": "ipython",
    "version": 3
   },
   "file_extension": ".py",
   "mimetype": "text/x-python",
   "name": "python",
   "nbconvert_exporter": "python",
   "pygments_lexer": "ipython3",
   "version": "3.7.4"
  }
 },
 "nbformat": 4,
 "nbformat_minor": 2
}
