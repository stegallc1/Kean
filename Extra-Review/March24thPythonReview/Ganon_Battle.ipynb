{
 "cells": [
  {
   "cell_type": "code",
   "execution_count": 59,
   "metadata": {},
   "outputs": [],
   "source": [
    "import random"
   ]
  },
  {
   "cell_type": "code",
   "execution_count": null,
   "metadata": {},
   "outputs": [],
   "source": []
  },
  {
   "cell_type": "code",
   "execution_count": 2,
   "metadata": {},
   "outputs": [],
   "source": [
    "##### BOSS BATTLE INSTRUCTIONS #####\n",
    "\n",
    "# use a combination of lists and dictionaries to set a players hit points and boss's hit points\n",
    "\n",
    "# use input function to ask user how difficult they want the game (easy, normal, hard)\n",
    "\n",
    "# depending on answer, set boss's hitpoint higher or lower\n",
    "\n",
    "# iterate a battle until either the player's hitpoints drop below 0 or the \n",
    "# boss's hitpoints drop below 0\n",
    "\n",
    "# on each turn, use the random library to determine how much damage the player does to the boss\n",
    "# and how much damage the boss does to the player\n",
    "\n",
    "# once one of the hitpoints drops to 0 or below, print out either 'congrats you win'\n",
    "# or 'sorry you lose'"
   ]
  },
  {
   "cell_type": "code",
   "execution_count": 3,
   "metadata": {},
   "outputs": [],
   "source": [
    "#Bonus: add a gear option that will add damage (weapon) or mitigate damage (armor)\n",
    "#       Utilize functions to make your code reusable\n"
   ]
  },
  {
   "cell_type": "code",
   "execution_count": 22,
   "metadata": {},
   "outputs": [],
   "source": [
    "player_hp = 100\n",
    "boss_hp = 500"
   ]
  },
  {
   "cell_type": "code",
   "execution_count": 41,
   "metadata": {},
   "outputs": [
    {
     "name": "stdout",
     "output_type": "stream",
     "text": [
      "50\n"
     ]
    }
   ],
   "source": [
    "weapons = {'bare hands':0,\n",
    "               'sword':10,\n",
    "              'axe':15,\n",
    "              'katana':25,\n",
    "              'bazooka':50}\n",
    "\n",
    "print(weapons['bazooka'])\n"
   ]
  },
  {
   "cell_type": "code",
   "execution_count": 58,
   "metadata": {},
   "outputs": [
    {
     "name": "stdout",
     "output_type": "stream",
     "text": [
      "Please select a difficulty: (easy,normal,hard) hard\n",
      "You chose hard\n",
      "Now choose a weapon from the below list that you will enter the battle with? \n",
      " bare hands, sword, axe, katana, bazookanooo\n",
      "\n",
      " You chose nooo\n",
      "you chose poorly\n",
      "Now choose a weapon from the below list that you will enter the battle with? \n",
      " bare hands, sword, axe, katana, bazookatank\n",
      "\n",
      " You chose tank\n",
      "you chose poorly\n",
      "Now choose a weapon from the below list that you will enter the battle with? \n",
      " bare hands, sword, axe, katana, bazookaaxe\n",
      "\n",
      " You chose axe\n",
      "axe does 15 extra damage\n",
      "\n",
      " You chose axe\n",
      "axe does 15 extra damage\n",
      "Player HP: 50\n",
      "Boss HP: 500\n",
      "Ganon does 1 points of damage to Link. Link has 49 HP left.\n",
      "Link does 21 points of damage to Ganon. Ganon has 479 HP left.\n",
      "Ganon does 6 points of damage to Link. Link has 43 HP left.\n",
      "Link does 65 points of damage to Ganon. Ganon has 414 HP left.\n",
      "Ganon does 2 points of damage to Link. Link has 41 HP left.\n",
      "Link does 62 points of damage to Ganon. Ganon has 352 HP left.\n",
      "Ganon does 3 points of damage to Link. Link has 38 HP left.\n",
      "Link does 30 points of damage to Ganon. Ganon has 322 HP left.\n",
      "Ganon does 1 points of damage to Link. Link has 37 HP left.\n",
      "Link does 53 points of damage to Ganon. Ganon has 269 HP left.\n",
      "Ganon does 0 points of damage to Link. Link has 37 HP left.\n",
      "Link does 33 points of damage to Ganon. Ganon has 236 HP left.\n",
      "Ganon does 1 points of damage to Link. Link has 36 HP left.\n",
      "Link does 19 points of damage to Ganon. Ganon has 217 HP left.\n",
      "Ganon does 7 points of damage to Link. Link has 29 HP left.\n",
      "Link does 23 points of damage to Ganon. Ganon has 194 HP left.\n",
      "Ganon does 6 points of damage to Link. Link has 23 HP left.\n",
      "Link does 63 points of damage to Ganon. Ganon has 131 HP left.\n",
      "Ganon does 10 points of damage to Link. Link has 13 HP left.\n",
      "Link does 49 points of damage to Ganon. Ganon has 82 HP left.\n",
      "Ganon does 6 points of damage to Link. Link has 7 HP left.\n",
      "Link does 22 points of damage to Ganon. Ganon has 60 HP left.\n",
      "Ganon does 7 points of damage to Link. Link has 0 HP left.\n",
      "Sorry, you lose.\n"
     ]
    }
   ],
   "source": [
    "choice = input('Please select a difficulty: (easy,normal,hard) ').lower()\n",
    "print(f'You chose {choice}')\n",
    "\n",
    "while True:\n",
    "    try:\n",
    "        weapon_choice = input(f\"Now choose a weapon from the below list that you will enter the battle with? \\n {', '.join(weapons.keys())}\")\n",
    "        print(f'\\n You chose {weapon_choice}')\n",
    "        print(f'{weapon_choice} does {weapons[weapon_choice]} extra damage')\n",
    "        break\n",
    "    except:\n",
    "        print('you chose poorly, try again')\n",
    "\n",
    "print(f'\\n You chose {weapon_choice}')\n",
    "print(f'{weapon_choice} does {weapons[weapon_choice]} extra damage')                      \n",
    "\n",
    "\n",
    "########## LIST MODE ############\n",
    "# 0 index = player hp\n",
    "# 1 index = boss hp\n",
    "#difficulty = {\"easy\":[100,300],\n",
    "#             \"normal\":[90,400],\n",
    "#             \"hard\":[50,500]}\n",
    "\n",
    "#player_hp = difficulty['easy'][0]\n",
    "#boss_hp = difficulty['easy'][1]\n",
    "\n",
    "#print(f'Player HP: {player_hp}')\n",
    "#print(f'Boss HP: {boss_hp}')\n",
    "\n",
    "########### DICTIONARY MODE ############\n",
    "difficulty = {\"easy\":{\"player\":100,\n",
    "                     \"boss\":300},\n",
    "             \"normal\":{\"player\":90,\n",
    "                     \"boss\":400},\n",
    "             \"hard\":{\"player\":50,\n",
    "                     \"boss\":500}}\n",
    "player_hp = difficulty[choice]['player']\n",
    "boss_hp = difficulty[choice]['boss']\n",
    "\n",
    "print(f'Player HP: {player_hp}')\n",
    "print(f'Boss HP: {boss_hp}')\n",
    "\n",
    "while player_hp > 0 and boss_hp > 0:\n",
    "    #Calculate how much damage player and boss does each turn\n",
    "    player_damage = random.randint(0,50) + weapons[weapon_choice]\n",
    "    boss_damage = random.randint(0,10)\n",
    "    \n",
    "    #Subtract boss damage from player's remaining HP pool\n",
    "    player_hp = player_hp - boss_damage\n",
    "    \n",
    "    #Check to see if player loses by having 0 or less HP\n",
    "    if player_hp <= 0:\n",
    "        print(f'Ganon does {boss_damage} points of damage to Link. Link has 0 HP left.')\n",
    "        print('Sorry, you lose.')\n",
    "        break\n",
    "    else:\n",
    "        print(f'Ganon does {boss_damage} points of damage to Link. Link has {player_hp} HP left.')\n",
    "    \n",
    "    #Subtract player damage from boss's remaining HP pool\n",
    "    boss_hp = boss_hp - player_damage\n",
    "    \n",
    "    #Check to see if boss loses by having 0 or less HP\n",
    "    if boss_hp <= 0:\n",
    "        print(f'Link does {player_damage} points of damage to Ganon. Ganon has 0 HP left.')\n",
    "        print('Congrats! You win!')\n",
    "    else:\n",
    "        print(f'Link does {player_damage} points of damage to Ganon. Ganon has {boss_hp} HP left.')"
   ]
  },
  {
   "cell_type": "code",
   "execution_count": null,
   "metadata": {},
   "outputs": [],
   "source": []
  }
 ],
 "metadata": {
  "kernelspec": {
   "display_name": "Python 3",
   "language": "python",
   "name": "python3"
  },
  "language_info": {
   "codemirror_mode": {
    "name": "ipython",
    "version": 3
   },
   "file_extension": ".py",
   "mimetype": "text/x-python",
   "name": "python",
   "nbconvert_exporter": "python",
   "pygments_lexer": "ipython3",
   "version": "3.7.4"
  }
 },
 "nbformat": 4,
 "nbformat_minor": 2
}
